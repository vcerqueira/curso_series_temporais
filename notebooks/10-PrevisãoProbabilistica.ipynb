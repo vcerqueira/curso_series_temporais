{
 "cells": [
  {
   "cell_type": "code",
   "execution_count": 1,
   "id": "5d05f0dd",
   "metadata": {},
   "outputs": [],
   "source": [
    "import numpy as np\n",
    "import pandas as pd\n",
    "%matplotlib inline"
   ]
  },
  {
   "cell_type": "code",
   "execution_count": 2,
   "id": "342cb543",
   "metadata": {},
   "outputs": [
    {
     "data": {
      "text/plain": [
       "<AxesSubplot:>"
      ]
     },
     "execution_count": 2,
     "metadata": {},
     "output_type": "execute_result"
    },
    {
     "data": {
      "image/png": "[encoded data removed]",
      "text/plain": [
       "<Figure size 432x288 with 1 Axes>"
      ]
     },
     "metadata": {
      "needs_background": "light"
     },
     "output_type": "display_data"
    }
   ],
   "source": [
    "# dados dos passageiros\n",
    "from pmdarima.datasets import load_airpassengers\n",
    "\n",
    "series = load_airpassengers(as_series=True)[:-1]\n",
    "\n",
    "series.plot()"
   ]
  },
  {
   "cell_type": "code",
   "execution_count": 3,
   "id": "a0948a3a",
   "metadata": {},
   "outputs": [
    {
     "data": {
      "text/plain": [
       "126    548.0\n",
       "127    559.0\n",
       "128    463.0\n",
       "129    407.0\n",
       "130    362.0\n",
       "dtype: float64"
      ]
     },
     "execution_count": 3,
     "metadata": {},
     "output_type": "execute_result"
    }
   ],
   "source": [
    "from sklearn.model_selection import train_test_split\n",
    "\n",
    "train, test = train_test_split(series, shuffle=False, test_size=12)\n",
    "\n",
    "train.tail()"
   ]
  },
  {
   "cell_type": "code",
   "execution_count": 4,
   "id": "bba19b26",
   "metadata": {},
   "outputs": [
    {
     "data": {
      "text/plain": [
       "131    405.0\n",
       "132    417.0\n",
       "133    391.0\n",
       "134    419.0\n",
       "135    461.0\n",
       "136    472.0\n",
       "137    535.0\n",
       "138    622.0\n",
       "139    606.0\n",
       "140    508.0\n",
       "141    461.0\n",
       "142    390.0\n",
       "dtype: float64"
      ]
     },
     "execution_count": 4,
     "metadata": {},
     "output_type": "execute_result"
    }
   ],
   "source": [
    "test"
   ]
  },
  {
   "cell_type": "code",
   "execution_count": 5,
   "id": "62db21b4",
   "metadata": {},
   "outputs": [
    {
     "name": "stdout",
     "output_type": "stream",
     "text": [
      "Performing stepwise search to minimize aic\n",
      " ARIMA(2,0,2)(1,1,1)[12] intercept   : AIC=896.397, Time=4.18 sec\n",
      " ARIMA(0,0,0)(0,1,0)[12] intercept   : AIC=1009.587, Time=0.03 sec\n",
      " ARIMA(1,0,0)(1,1,0)[12] intercept   : AIC=896.831, Time=0.66 sec\n",
      " ARIMA(0,0,1)(0,1,1)[12] intercept   : AIC=953.101, Time=0.34 sec\n",
      " ARIMA(0,0,0)(0,1,0)[12]             : AIC=1179.879, Time=0.03 sec\n",
      " ARIMA(2,0,2)(0,1,1)[12] intercept   : AIC=896.568, Time=1.49 sec\n",
      " ARIMA(2,0,2)(1,1,0)[12] intercept   : AIC=896.398, Time=1.52 sec\n",
      " ARIMA(2,0,2)(2,1,1)[12] intercept   : AIC=895.832, Time=6.64 sec\n",
      " ARIMA(2,0,2)(2,1,0)[12] intercept   : AIC=897.319, Time=3.28 sec\n",
      " ARIMA(2,0,2)(2,1,2)[12] intercept   : AIC=inf, Time=13.48 sec\n",
      " ARIMA(2,0,2)(1,1,2)[12] intercept   : AIC=895.386, Time=8.55 sec\n",
      " ARIMA(2,0,2)(0,1,2)[12] intercept   : AIC=897.415, Time=4.46 sec\n",
      " ARIMA(1,0,2)(1,1,2)[12] intercept   : AIC=893.522, Time=9.82 sec\n",
      " ARIMA(1,0,2)(0,1,2)[12] intercept   : AIC=896.085, Time=2.53 sec\n",
      " ARIMA(1,0,2)(1,1,1)[12] intercept   : AIC=inf, Time=4.10 sec\n",
      " ARIMA(1,0,2)(2,1,2)[12] intercept   : AIC=inf, Time=10.76 sec\n",
      " ARIMA(1,0,2)(0,1,1)[12] intercept   : AIC=895.147, Time=0.92 sec\n",
      " ARIMA(1,0,2)(2,1,1)[12] intercept   : AIC=894.146, Time=9.08 sec\n",
      " ARIMA(0,0,2)(1,1,2)[12] intercept   : AIC=921.600, Time=1.90 sec\n",
      " ARIMA(1,0,1)(1,1,2)[12] intercept   : AIC=893.840, Time=4.00 sec\n",
      " ARIMA(1,0,3)(1,1,2)[12] intercept   : AIC=896.732, Time=5.88 sec\n",
      " ARIMA(0,0,1)(1,1,2)[12] intercept   : AIC=956.846, Time=1.44 sec\n",
      " ARIMA(0,0,3)(1,1,2)[12] intercept   : AIC=906.968, Time=2.26 sec\n",
      " ARIMA(2,0,1)(1,1,2)[12] intercept   : AIC=893.703, Time=3.90 sec\n",
      " ARIMA(2,0,3)(1,1,2)[12] intercept   : AIC=inf, Time=6.09 sec\n",
      " ARIMA(1,0,2)(1,1,2)[12]             : AIC=inf, Time=3.50 sec\n",
      "\n",
      "Best model:  ARIMA(1,0,2)(1,1,2)[12] intercept\n",
      "Total fit time: 110.987 seconds\n"
     ]
    }
   ],
   "source": [
    "import pmdarima as pm\n",
    "\n",
    "model = pm.auto_arima(train, m=12, trace=True, suppress_warnings=True)"
   ]
  },
  {
   "cell_type": "code",
   "execution_count": 6,
   "id": "3aef3a80",
   "metadata": {},
   "outputs": [
    {
     "data": {
      "text/plain": [
       "array([385.96028066, 404.08498107, 380.40785667, 441.36206512,\n",
       "       428.12505575, 450.66896612, 510.98596314, 585.47998305,\n",
       "       597.56378324, 492.52041203, 434.78610044, 385.7220051 ])"
      ]
     },
     "execution_count": 6,
     "metadata": {},
     "output_type": "execute_result"
    }
   ],
   "source": [
    "forecasts, pred_interval = model.predict(n_periods=len(test), return_conf_int=True, alpha=0.05)\n",
    "forecasts"
   ]
  },
  {
   "cell_type": "code",
   "execution_count": 7,
   "id": "655b6e12",
   "metadata": {},
   "outputs": [
    {
     "data": {
      "text/plain": [
       "array([[367.41312671, 404.5074346 ],\n",
       "       [381.91230899, 426.25765316],\n",
       "       [354.57164931, 406.24406402],\n",
       "       [413.36217596, 469.36195428],\n",
       "       [398.77990396, 457.47020754],\n",
       "       [420.46588897, 480.87204327],\n",
       "       [480.22796113, 541.74396515],\n",
       "       [554.36006111, 616.599905  ],\n",
       "       [566.20669933, 628.92086716],\n",
       "       [461.00759508, 524.03322899],\n",
       "       [403.17110022, 466.40110066],\n",
       "       [354.04031837, 417.40369184]])"
      ]
     },
     "execution_count": 7,
     "metadata": {},
     "output_type": "execute_result"
    }
   ],
   "source": [
    "pred_interval"
   ]
  },
  {
   "cell_type": "code",
   "execution_count": 8,
   "id": "e11bfba8",
   "metadata": {},
   "outputs": [
    {
     "data": {
      "text/plain": [
       "<matplotlib.collections.PolyCollection at 0x7fb7972ac0d0>"
      ]
     },
     "execution_count": 8,
     "metadata": {},
     "output_type": "execute_result"
    },
    {
     "data": {
      "image/png": "[encoded data removed]",
      "text/plain": [
       "<Figure size 864x432 with 1 Axes>"
      ]
     },
     "metadata": {
      "needs_background": "light"
     },
     "output_type": "display_data"
    }
   ],
   "source": [
    "test = test.rename('Actual')\n",
    "forecasts = pd.Series(forecasts, index=test.index).rename('Forecasts')\n",
    "ax = train.plot()\n",
    "ax = test.plot(legend=True,color='red', figsize=(12,6),title='Forecasting with Auto Arima')\n",
    "forecasts.plot(legend=True, color='green')\n",
    "ax.fill_between(test.index,\n",
    "                pred_interval[:, 0], \n",
    "                pred_interval[:, 1],\n",
    "                alpha=0.9, color='orange',\n",
    "                label=\"Prediction Intervals\")"
   ]
  },
  {
   "cell_type": "code",
   "execution_count": 10,
   "id": "59460065",
   "metadata": {},
   "outputs": [
    {
     "data": {
      "text/plain": [
       "<matplotlib.collections.PolyCollection at 0x7fb7a9644510>"
      ]
     },
     "execution_count": 10,
     "metadata": {},
     "output_type": "execute_result"
    },
    {
     "data": {
      "image/png": "[encoded data removed]",
      "text/plain": [
       "<Figure size 864x432 with 1 Axes>"
      ]
     },
     "metadata": {
      "needs_background": "light"
     },
     "output_type": "display_data"
    }
   ],
   "source": [
    "forecasts, pred_interval = model.predict(n_periods=len(test), return_conf_int=True, alpha=0.5)\n",
    "\n",
    "test = test.rename('Actual')\n",
    "forecasts = pd.Series(forecasts, index=test.index).rename('Forecasts')\n",
    "ax = train.plot()\n",
    "ax = test.plot(legend=True,color='red', figsize=(12,6),title='Forecasting with Auto Arima')\n",
    "forecasts.plot(legend=True, color='green')\n",
    "ax.fill_between(test.index,\n",
    "                pred_interval[:, 0], \n",
    "                pred_interval[:, 1],\n",
    "                alpha=0.9, color='orange',\n",
    "                label=\"Prediction Intervals\")"
   ]
  },
  {
   "cell_type": "markdown",
   "id": "ed186960",
   "metadata": {},
   "source": [
    "# Previsão de Excedência"
   ]
  },
  {
   "cell_type": "code",
   "execution_count": 11,
   "id": "53281109",
   "metadata": {},
   "outputs": [],
   "source": [
    "data = pd.read_csv('wave_height_hourly.csv')"
   ]
  },
  {
   "cell_type": "code",
   "execution_count": 12,
   "id": "f1ace8f8",
   "metadata": {},
   "outputs": [
    {
     "data": {
      "text/html": [
       "<div>\n",
       "<style scoped>\n",
       "    .dataframe tbody tr th:only-of-type {\n",
       "        vertical-align: middle;\n",
       "    }\n",
       "\n",
       "    .dataframe tbody tr th {\n",
       "        vertical-align: top;\n",
       "    }\n",
       "\n",
       "    .dataframe thead th {\n",
       "        text-align: right;\n",
       "    }\n",
       "</style>\n",
       "<table border=\"1\" class=\"dataframe\">\n",
       "  <thead>\n",
       "    <tr style=\"text-align: right;\">\n",
       "      <th></th>\n",
       "      <th>time</th>\n",
       "      <th>SignificantWaveHeight</th>\n",
       "    </tr>\n",
       "  </thead>\n",
       "  <tbody>\n",
       "    <tr>\n",
       "      <th>0</th>\n",
       "      <td>2016-01-01 00:00:00</td>\n",
       "      <td>6.085000</td>\n",
       "    </tr>\n",
       "    <tr>\n",
       "      <th>1</th>\n",
       "      <td>2016-01-01 01:00:00</td>\n",
       "      <td>5.989611</td>\n",
       "    </tr>\n",
       "    <tr>\n",
       "      <th>2</th>\n",
       "      <td>2016-01-01 02:00:00</td>\n",
       "      <td>5.494222</td>\n",
       "    </tr>\n",
       "    <tr>\n",
       "      <th>3</th>\n",
       "      <td>2016-01-01 03:00:00</td>\n",
       "      <td>5.170778</td>\n",
       "    </tr>\n",
       "    <tr>\n",
       "      <th>4</th>\n",
       "      <td>2016-01-01 04:00:00</td>\n",
       "      <td>5.362333</td>\n",
       "    </tr>\n",
       "  </tbody>\n",
       "</table>\n",
       "</div>"
      ],
      "text/plain": [
       "                  time  SignificantWaveHeight\n",
       "0  2016-01-01 00:00:00               6.085000\n",
       "1  2016-01-01 01:00:00               5.989611\n",
       "2  2016-01-01 02:00:00               5.494222\n",
       "3  2016-01-01 03:00:00               5.170778\n",
       "4  2016-01-01 04:00:00               5.362333"
      ]
     },
     "execution_count": 12,
     "metadata": {},
     "output_type": "execute_result"
    }
   ],
   "source": [
    "data.head()"
   ]
  },
  {
   "cell_type": "code",
   "execution_count": 13,
   "id": "58a4dd18",
   "metadata": {},
   "outputs": [
    {
     "data": {
      "text/plain": [
       "<AxesSubplot:xlabel='time'>"
      ]
     },
     "execution_count": 13,
     "metadata": {},
     "output_type": "execute_result"
    },
    {
     "data": {
      "image/png": "[encoded data removed]",
      "text/plain": [
       "<Figure size 432x288 with 1 Axes>"
      ]
     },
     "metadata": {
      "needs_background": "light"
     },
     "output_type": "display_data"
    }
   ],
   "source": [
    "wave = pd.Series(data['SignificantWaveHeight'].values, index = pd.to_datetime(data['time']))\n",
    "wave.plot()"
   ]
  },
  {
   "cell_type": "code",
   "execution_count": 14,
   "id": "524828b5",
   "metadata": {},
   "outputs": [
    {
     "data": {
      "text/html": [
       "<div>\n",
       "<style scoped>\n",
       "    .dataframe tbody tr th:only-of-type {\n",
       "        vertical-align: middle;\n",
       "    }\n",
       "\n",
       "    .dataframe tbody tr th {\n",
       "        vertical-align: top;\n",
       "    }\n",
       "\n",
       "    .dataframe thead th {\n",
       "        text-align: right;\n",
       "    }\n",
       "</style>\n",
       "<table border=\"1\" class=\"dataframe\">\n",
       "  <thead>\n",
       "    <tr style=\"text-align: right;\">\n",
       "      <th></th>\n",
       "      <th>t-5</th>\n",
       "      <th>t-4</th>\n",
       "      <th>t-3</th>\n",
       "      <th>t-2</th>\n",
       "      <th>t-1</th>\n",
       "      <th>t-0</th>\n",
       "      <th>t+1</th>\n",
       "      <th>t+2</th>\n",
       "      <th>t+3</th>\n",
       "      <th>t+4</th>\n",
       "      <th>t+5</th>\n",
       "      <th>t+6</th>\n",
       "      <th>t+7</th>\n",
       "      <th>t+8</th>\n",
       "      <th>t+9</th>\n",
       "      <th>t+10</th>\n",
       "      <th>t+11</th>\n",
       "      <th>t+12</th>\n",
       "    </tr>\n",
       "  </thead>\n",
       "  <tbody>\n",
       "    <tr>\n",
       "      <th>0</th>\n",
       "      <td>6.085000</td>\n",
       "      <td>5.989611</td>\n",
       "      <td>5.494222</td>\n",
       "      <td>5.170778</td>\n",
       "      <td>5.362333</td>\n",
       "      <td>4.876556</td>\n",
       "      <td>5.110222</td>\n",
       "      <td>4.856111</td>\n",
       "      <td>5.071167</td>\n",
       "      <td>4.984167</td>\n",
       "      <td>5.418722</td>\n",
       "      <td>5.306167</td>\n",
       "      <td>5.193222</td>\n",
       "      <td>5.798111</td>\n",
       "      <td>4.452444</td>\n",
       "      <td>4.506556</td>\n",
       "      <td>4.410111</td>\n",
       "      <td>4.598833</td>\n",
       "    </tr>\n",
       "    <tr>\n",
       "      <th>1</th>\n",
       "      <td>5.989611</td>\n",
       "      <td>5.494222</td>\n",
       "      <td>5.170778</td>\n",
       "      <td>5.362333</td>\n",
       "      <td>4.876556</td>\n",
       "      <td>5.110222</td>\n",
       "      <td>4.856111</td>\n",
       "      <td>5.071167</td>\n",
       "      <td>4.984167</td>\n",
       "      <td>5.418722</td>\n",
       "      <td>5.306167</td>\n",
       "      <td>5.193222</td>\n",
       "      <td>5.798111</td>\n",
       "      <td>4.452444</td>\n",
       "      <td>4.506556</td>\n",
       "      <td>4.410111</td>\n",
       "      <td>4.598833</td>\n",
       "      <td>4.137778</td>\n",
       "    </tr>\n",
       "    <tr>\n",
       "      <th>2</th>\n",
       "      <td>5.494222</td>\n",
       "      <td>5.170778</td>\n",
       "      <td>5.362333</td>\n",
       "      <td>4.876556</td>\n",
       "      <td>5.110222</td>\n",
       "      <td>4.856111</td>\n",
       "      <td>5.071167</td>\n",
       "      <td>4.984167</td>\n",
       "      <td>5.418722</td>\n",
       "      <td>5.306167</td>\n",
       "      <td>5.193222</td>\n",
       "      <td>5.798111</td>\n",
       "      <td>4.452444</td>\n",
       "      <td>4.506556</td>\n",
       "      <td>4.410111</td>\n",
       "      <td>4.598833</td>\n",
       "      <td>4.137778</td>\n",
       "      <td>4.292167</td>\n",
       "    </tr>\n",
       "    <tr>\n",
       "      <th>3</th>\n",
       "      <td>5.170778</td>\n",
       "      <td>5.362333</td>\n",
       "      <td>4.876556</td>\n",
       "      <td>5.110222</td>\n",
       "      <td>4.856111</td>\n",
       "      <td>5.071167</td>\n",
       "      <td>4.984167</td>\n",
       "      <td>5.418722</td>\n",
       "      <td>5.306167</td>\n",
       "      <td>5.193222</td>\n",
       "      <td>5.798111</td>\n",
       "      <td>4.452444</td>\n",
       "      <td>4.506556</td>\n",
       "      <td>4.410111</td>\n",
       "      <td>4.598833</td>\n",
       "      <td>4.137778</td>\n",
       "      <td>4.292167</td>\n",
       "      <td>4.547722</td>\n",
       "    </tr>\n",
       "    <tr>\n",
       "      <th>4</th>\n",
       "      <td>5.362333</td>\n",
       "      <td>4.876556</td>\n",
       "      <td>5.110222</td>\n",
       "      <td>4.856111</td>\n",
       "      <td>5.071167</td>\n",
       "      <td>4.984167</td>\n",
       "      <td>5.418722</td>\n",
       "      <td>5.306167</td>\n",
       "      <td>5.193222</td>\n",
       "      <td>5.798111</td>\n",
       "      <td>4.452444</td>\n",
       "      <td>4.506556</td>\n",
       "      <td>4.410111</td>\n",
       "      <td>4.598833</td>\n",
       "      <td>4.137778</td>\n",
       "      <td>4.292167</td>\n",
       "      <td>4.547722</td>\n",
       "      <td>4.524944</td>\n",
       "    </tr>\n",
       "  </tbody>\n",
       "</table>\n",
       "</div>"
      ],
      "text/plain": [
       "        t-5       t-4       t-3       t-2       t-1       t-0       t+1  \\\n",
       "0  6.085000  5.989611  5.494222  5.170778  5.362333  4.876556  5.110222   \n",
       "1  5.989611  5.494222  5.170778  5.362333  4.876556  5.110222  4.856111   \n",
       "2  5.494222  5.170778  5.362333  4.876556  5.110222  4.856111  5.071167   \n",
       "3  5.170778  5.362333  4.876556  5.110222  4.856111  5.071167  4.984167   \n",
       "4  5.362333  4.876556  5.110222  4.856111  5.071167  4.984167  5.418722   \n",
       "\n",
       "        t+2       t+3       t+4       t+5       t+6       t+7       t+8  \\\n",
       "0  4.856111  5.071167  4.984167  5.418722  5.306167  5.193222  5.798111   \n",
       "1  5.071167  4.984167  5.418722  5.306167  5.193222  5.798111  4.452444   \n",
       "2  4.984167  5.418722  5.306167  5.193222  5.798111  4.452444  4.506556   \n",
       "3  5.418722  5.306167  5.193222  5.798111  4.452444  4.506556  4.410111   \n",
       "4  5.306167  5.193222  5.798111  4.452444  4.506556  4.410111  4.598833   \n",
       "\n",
       "        t+9      t+10      t+11      t+12  \n",
       "0  4.452444  4.506556  4.410111  4.598833  \n",
       "1  4.506556  4.410111  4.598833  4.137778  \n",
       "2  4.410111  4.598833  4.137778  4.292167  \n",
       "3  4.598833  4.137778  4.292167  4.547722  \n",
       "4  4.137778  4.292167  4.547722  4.524944  "
      ]
     },
     "execution_count": 14,
     "metadata": {},
     "output_type": "execute_result"
    }
   ],
   "source": [
    "from tde import UnivariateTDE\n",
    "\n",
    "wave_tde = UnivariateTDE(wave, horizon=12, k=6)\n",
    "wave_tde.head()"
   ]
  },
  {
   "cell_type": "code",
   "execution_count": 15,
   "id": "e6bac435",
   "metadata": {},
   "outputs": [
    {
     "data": {
      "text/html": [
       "<div>\n",
       "<style scoped>\n",
       "    .dataframe tbody tr th:only-of-type {\n",
       "        vertical-align: middle;\n",
       "    }\n",
       "\n",
       "    .dataframe tbody tr th {\n",
       "        vertical-align: top;\n",
       "    }\n",
       "\n",
       "    .dataframe thead th {\n",
       "        text-align: right;\n",
       "    }\n",
       "</style>\n",
       "<table border=\"1\" class=\"dataframe\">\n",
       "  <thead>\n",
       "    <tr style=\"text-align: right;\">\n",
       "      <th></th>\n",
       "      <th>t-5</th>\n",
       "      <th>t-4</th>\n",
       "      <th>t-3</th>\n",
       "      <th>t-2</th>\n",
       "      <th>t-1</th>\n",
       "      <th>t-0</th>\n",
       "    </tr>\n",
       "  </thead>\n",
       "  <tbody>\n",
       "    <tr>\n",
       "      <th>0</th>\n",
       "      <td>6.085000</td>\n",
       "      <td>5.989611</td>\n",
       "      <td>5.494222</td>\n",
       "      <td>5.170778</td>\n",
       "      <td>5.362333</td>\n",
       "      <td>4.876556</td>\n",
       "    </tr>\n",
       "    <tr>\n",
       "      <th>1</th>\n",
       "      <td>5.989611</td>\n",
       "      <td>5.494222</td>\n",
       "      <td>5.170778</td>\n",
       "      <td>5.362333</td>\n",
       "      <td>4.876556</td>\n",
       "      <td>5.110222</td>\n",
       "    </tr>\n",
       "    <tr>\n",
       "      <th>2</th>\n",
       "      <td>5.494222</td>\n",
       "      <td>5.170778</td>\n",
       "      <td>5.362333</td>\n",
       "      <td>4.876556</td>\n",
       "      <td>5.110222</td>\n",
       "      <td>4.856111</td>\n",
       "    </tr>\n",
       "    <tr>\n",
       "      <th>3</th>\n",
       "      <td>5.170778</td>\n",
       "      <td>5.362333</td>\n",
       "      <td>4.876556</td>\n",
       "      <td>5.110222</td>\n",
       "      <td>4.856111</td>\n",
       "      <td>5.071167</td>\n",
       "    </tr>\n",
       "    <tr>\n",
       "      <th>4</th>\n",
       "      <td>5.362333</td>\n",
       "      <td>4.876556</td>\n",
       "      <td>5.110222</td>\n",
       "      <td>4.856111</td>\n",
       "      <td>5.071167</td>\n",
       "      <td>4.984167</td>\n",
       "    </tr>\n",
       "  </tbody>\n",
       "</table>\n",
       "</div>"
      ],
      "text/plain": [
       "        t-5       t-4       t-3       t-2       t-1       t-0\n",
       "0  6.085000  5.989611  5.494222  5.170778  5.362333  4.876556\n",
       "1  5.989611  5.494222  5.170778  5.362333  4.876556  5.110222\n",
       "2  5.494222  5.170778  5.362333  4.876556  5.110222  4.856111\n",
       "3  5.170778  5.362333  4.876556  5.110222  4.856111  5.071167\n",
       "4  5.362333  4.876556  5.110222  4.856111  5.071167  4.984167"
      ]
     },
     "execution_count": 15,
     "metadata": {},
     "output_type": "execute_result"
    }
   ],
   "source": [
    "is_future = wave_tde.columns.str.contains('\\+')\n",
    "X = wave_tde.iloc[:,~is_future]\n",
    "y = wave_tde['t+12']\n",
    "\n",
    "X.head()"
   ]
  },
  {
   "cell_type": "code",
   "execution_count": 16,
   "id": "cf407b25",
   "metadata": {},
   "outputs": [
    {
     "data": {
      "text/plain": [
       "0        4.598833\n",
       "1        4.137778\n",
       "2        4.292167\n",
       "3        4.547722\n",
       "4        4.524944\n",
       "           ...   \n",
       "26197    2.173500\n",
       "26198    2.061556\n",
       "26199    2.029222\n",
       "26200    2.061222\n",
       "26201    2.007000\n",
       "Name: t+12, Length: 26202, dtype: float64"
      ]
     },
     "execution_count": 16,
     "metadata": {},
     "output_type": "execute_result"
    }
   ],
   "source": [
    "y"
   ]
  },
  {
   "cell_type": "code",
   "execution_count": 17,
   "id": "9c52ce35",
   "metadata": {},
   "outputs": [],
   "source": [
    "X_train, X_test, y_train, y_test = train_test_split(X, y, test_size=0.3, shuffle=False)"
   ]
  },
  {
   "cell_type": "code",
   "execution_count": 18,
   "id": "04dc201e",
   "metadata": {},
   "outputs": [
    {
     "data": {
      "text/plain": [
       "count    18341.000000\n",
       "mean         2.872670\n",
       "std          1.614961\n",
       "min          0.422286\n",
       "25%          1.721278\n",
       "50%          2.542500\n",
       "75%          3.596222\n",
       "max         14.044647\n",
       "Name: t+12, dtype: float64"
      ]
     },
     "execution_count": 18,
     "metadata": {},
     "output_type": "execute_result"
    }
   ],
   "source": [
    "y_train.describe()"
   ]
  },
  {
   "cell_type": "code",
   "execution_count": 19,
   "id": "4a25a42c",
   "metadata": {},
   "outputs": [
    {
     "data": {
      "text/plain": [
       "6.070277777777778"
      ]
     },
     "execution_count": 19,
     "metadata": {},
     "output_type": "execute_result"
    }
   ],
   "source": [
    "threshold = y_train.quantile(0.95)\n",
    "threshold"
   ]
  },
  {
   "cell_type": "code",
   "execution_count": 20,
   "id": "77e1e31d",
   "metadata": {},
   "outputs": [
    {
     "data": {
      "text/plain": [
       "0        0\n",
       "1        0\n",
       "2        0\n",
       "3        0\n",
       "4        0\n",
       "        ..\n",
       "18336    0\n",
       "18337    0\n",
       "18338    0\n",
       "18339    0\n",
       "18340    0\n",
       "Name: t+12, Length: 18341, dtype: int64"
      ]
     },
     "execution_count": 20,
     "metadata": {},
     "output_type": "execute_result"
    }
   ],
   "source": [
    "y_train_clf = (y_train > threshold).astype(int)\n",
    "y_train_clf"
   ]
  },
  {
   "cell_type": "code",
   "execution_count": 21,
   "id": "00eab2ee",
   "metadata": {},
   "outputs": [
    {
     "data": {
      "text/plain": [
       "0    0.950057\n",
       "1    0.049943\n",
       "Name: t+12, dtype: float64"
      ]
     },
     "execution_count": 21,
     "metadata": {},
     "output_type": "execute_result"
    }
   ],
   "source": [
    "y_train_clf.value_counts(normalize=True)"
   ]
  },
  {
   "cell_type": "code",
   "execution_count": 22,
   "id": "ab00f21a",
   "metadata": {},
   "outputs": [
    {
     "data": {
      "text/plain": [
       "0    0.977484\n",
       "1    0.022516\n",
       "Name: t+12, dtype: float64"
      ]
     },
     "execution_count": 22,
     "metadata": {},
     "output_type": "execute_result"
    }
   ],
   "source": [
    "y_test_clf = (y_test > threshold).astype(int)\n",
    "y_test_clf.value_counts(normalize=True)"
   ]
  },
  {
   "cell_type": "code",
   "execution_count": 23,
   "id": "95b54816",
   "metadata": {},
   "outputs": [
    {
     "data": {
      "text/plain": [
       "RandomForestClassifier()"
      ]
     },
     "execution_count": 23,
     "metadata": {},
     "output_type": "execute_result"
    }
   ],
   "source": [
    "from sklearn.ensemble import RandomForestClassifier\n",
    "\n",
    "model = RandomForestClassifier()\n",
    "model.fit(X_train, y_train_clf)"
   ]
  },
  {
   "cell_type": "code",
   "execution_count": 25,
   "id": "acfbae58",
   "metadata": {},
   "outputs": [
    {
     "data": {
      "text/plain": [
       "array([[0.57, 0.43],\n",
       "       [0.75, 0.25],\n",
       "       [0.71, 0.29],\n",
       "       ...,\n",
       "       [1.  , 0.  ],\n",
       "       [1.  , 0.  ],\n",
       "       [1.  , 0.  ]])"
      ]
     },
     "execution_count": 25,
     "metadata": {},
     "output_type": "execute_result"
    }
   ],
   "source": [
    "forecasts_prob = model.predict_proba(X_test)\n",
    "forecasts_prob"
   ]
  },
  {
   "cell_type": "code",
   "execution_count": 26,
   "id": "413ca5d0",
   "metadata": {},
   "outputs": [
    {
     "data": {
      "text/plain": [
       "array([0.43, 0.25, 0.29, 0.23, 0.32, 0.33])"
      ]
     },
     "execution_count": 26,
     "metadata": {},
     "output_type": "execute_result"
    }
   ],
   "source": [
    "exceedance_prob = forecasts_prob[:,1]\n",
    "exceedance_prob[:6]"
   ]
  },
  {
   "cell_type": "code",
   "execution_count": 27,
   "id": "560ae685",
   "metadata": {},
   "outputs": [
    {
     "data": {
      "text/plain": [
       "<AxesSubplot:>"
      ]
     },
     "execution_count": 27,
     "metadata": {},
     "output_type": "execute_result"
    },
    {
     "data": {
      "image/png": "[encoded data removed]",
      "text/plain": [
       "<Figure size 864x432 with 1 Axes>"
      ]
     },
     "metadata": {
      "needs_background": "light"
     },
     "output_type": "display_data"
    }
   ],
   "source": [
    "exceedance_prob = pd.Series(exceedance_prob, index=y_test_clf.index).rename('Exceedance Prob.')\n",
    "ax = y_test_clf.plot(legend=True,color='red', figsize=(12,6), alpha=0.5)\n",
    "exceedance_prob.plot(legend=True, color='green', alpha=0.5)"
   ]
  },
  {
   "cell_type": "code",
   "execution_count": 28,
   "id": "c0af10f3",
   "metadata": {},
   "outputs": [
    {
     "name": "stderr",
     "output_type": "stream",
     "text": [
      "/Users/vcerqueira/.conda/envs/time_series_course/lib/python3.7/site-packages/sklearn/utils/deprecation.py:87: FutureWarning: Function plot_roc_curve is deprecated; Function :func:`plot_roc_curve` is deprecated in 1.0 and will be removed in 1.2. Use one of the class methods: :meth:`sklearn.metric.RocCurveDisplay.from_predictions` or :meth:`sklearn.metric.RocCurveDisplay.from_estimator`.\n",
      "  warnings.warn(msg, category=FutureWarning)\n"
     ]
    },
    {
     "data": {
      "text/plain": [
       "<sklearn.metrics._plot.roc_curve.RocCurveDisplay at 0x7fb78feb7210>"
      ]
     },
     "execution_count": 28,
     "metadata": {},
     "output_type": "execute_result"
    },
    {
     "data": {
      "image/png": "[encoded data removed]",
      "text/plain": [
       "<Figure size 432x288 with 1 Axes>"
      ]
     },
     "metadata": {
      "needs_background": "light"
     },
     "output_type": "display_data"
    }
   ],
   "source": [
    "from sklearn.metrics import roc_auc_score, roc_curve, plot_roc_curve\n",
    "?roc_auc_score\n",
    "\n",
    "plot_roc_curve(model, X_test, y_test_clf)"
   ]
  },
  {
   "cell_type": "code",
   "execution_count": 29,
   "id": "ddf6ce47",
   "metadata": {},
   "outputs": [
    {
     "data": {
      "text/plain": [
       "0.9076685871588773"
      ]
     },
     "execution_count": 29,
     "metadata": {},
     "output_type": "execute_result"
    }
   ],
   "source": [
    "\n",
    "roc_auc_score(y_test_clf, exceedance_prob)"
   ]
  },
  {
   "cell_type": "code",
   "execution_count": 31,
   "id": "f2851d2f",
   "metadata": {},
   "outputs": [],
   "source": [
    "from imblearn.ensemble import BalancedRandomForestClassifier"
   ]
  },
  {
   "cell_type": "code",
   "execution_count": 32,
   "id": "64ad5f41",
   "metadata": {},
   "outputs": [
    {
     "data": {
      "text/plain": [
       "BalancedRandomForestClassifier()"
      ]
     },
     "execution_count": 32,
     "metadata": {},
     "output_type": "execute_result"
    }
   ],
   "source": [
    "model = BalancedRandomForestClassifier()\n",
    "model.fit(X_train, y_train_clf)"
   ]
  },
  {
   "cell_type": "code",
   "execution_count": 33,
   "id": "58fbdf66",
   "metadata": {},
   "outputs": [
    {
     "data": {
      "text/plain": [
       "array([[0.08, 0.92],\n",
       "       [0.17, 0.83],\n",
       "       [0.14, 0.86],\n",
       "       ...,\n",
       "       [1.  , 0.  ],\n",
       "       [1.  , 0.  ],\n",
       "       [1.  , 0.  ]])"
      ]
     },
     "execution_count": 33,
     "metadata": {},
     "output_type": "execute_result"
    }
   ],
   "source": [
    "forecasts_prob = model.predict_proba(X_test)\n",
    "forecasts_prob"
   ]
  },
  {
   "cell_type": "code",
   "execution_count": 34,
   "id": "0af64927",
   "metadata": {},
   "outputs": [
    {
     "data": {
      "text/plain": [
       "0.9334066384916049"
      ]
     },
     "execution_count": 34,
     "metadata": {},
     "output_type": "execute_result"
    }
   ],
   "source": [
    "roc_auc_score(y_test_clf, forecasts_prob[:,1])"
   ]
  },
  {
   "cell_type": "code",
   "execution_count": 35,
   "id": "350dd3c2",
   "metadata": {},
   "outputs": [],
   "source": [
    "from imblearn.over_sampling import SMOTE\n",
    "from imblearn.under_sampling import TomekLinks"
   ]
  },
  {
   "cell_type": "code",
   "execution_count": 36,
   "id": "a528c365",
   "metadata": {},
   "outputs": [],
   "source": [
    "smote = SMOTE()\n",
    "X_train_r, y_train_clf_r = smote.fit_resample(X_train, y_train_clf)"
   ]
  },
  {
   "cell_type": "code",
   "execution_count": 37,
   "id": "fcfef53c",
   "metadata": {},
   "outputs": [
    {
     "data": {
      "text/plain": [
       "RandomForestClassifier()"
      ]
     },
     "execution_count": 37,
     "metadata": {},
     "output_type": "execute_result"
    }
   ],
   "source": [
    "smote_model = RandomForestClassifier()\n",
    "smote_model.fit(X_train_r, y_train_clf_r)"
   ]
  },
  {
   "cell_type": "code",
   "execution_count": 38,
   "id": "bed01187",
   "metadata": {},
   "outputs": [
    {
     "data": {
      "text/plain": [
       "array([[0.27, 0.73],\n",
       "       [0.24, 0.76],\n",
       "       [0.17, 0.83],\n",
       "       ...,\n",
       "       [1.  , 0.  ],\n",
       "       [1.  , 0.  ],\n",
       "       [0.99, 0.01]])"
      ]
     },
     "execution_count": 38,
     "metadata": {},
     "output_type": "execute_result"
    }
   ],
   "source": [
    "forecasts_prob_sm = smote_model.predict_proba(X_test)\n",
    "forecasts_prob_sm"
   ]
  },
  {
   "cell_type": "code",
   "execution_count": 39,
   "id": "6401b74f",
   "metadata": {},
   "outputs": [
    {
     "data": {
      "text/plain": [
       "0.9194132205154448"
      ]
     },
     "execution_count": 39,
     "metadata": {},
     "output_type": "execute_result"
    }
   ],
   "source": [
    "roc_auc_score(y_test_clf, forecasts_prob_sm[:,1])"
   ]
  }
 ],
 "metadata": {
  "kernelspec": {
   "display_name": "Python 3 (ipykernel)",
   "language": "python",
   "name": "python3"
  },
  "language_info": {
   "codemirror_mode": {
    "name": "ipython",
    "version": 3
   },
   "file_extension": ".py",
   "mimetype": "text/x-python",
   "name": "python",
   "nbconvert_exporter": "python",
   "pygments_lexer": "ipython3",
   "version": "3.10.14"
  }
 },
 "nbformat": 4,
 "nbformat_minor": 5
}
