{
 "cells": [
  {
   "cell_type": "code",
   "execution_count": null,
   "id": "5d683589",
   "metadata": {},
   "outputs": [],
   "source": [
    "import datetime\n",
    "import numpy as np\n",
    "import pandas as pd\n",
    "import matplotlib.pyplot as plt\n",
    "%matplotlib inline"
   ]
  },
  {
   "cell_type": "markdown",
   "id": "0e65a14d",
   "metadata": {},
   "source": [
    "### Leitura de Dados"
   ]
  },
  {
   "cell_type": "code",
   "execution_count": null,
   "id": "a5f36144",
   "metadata": {},
   "outputs": [],
   "source": [
    "DATA_DIR = 'assets/wind.csv'"
   ]
  },
  {
   "cell_type": "code",
   "execution_count": null,
   "id": "6e5f5c87",
   "metadata": {},
   "outputs": [],
   "source": [
    "data = pd.read_csv(DATA_DIR)\n",
    "data = data.drop('rec_fcast', axis=1)\n",
    "data['datetime'] = pd.to_datetime(data['datetime'], dayfirst=True)\n",
    "\n",
    "data.set_index('datetime', inplace=True)\n",
    "\n",
    "data['normalized_wp'] = data['wpower'] / data['capacity']\n",
    "\n",
    "subset_year = [2013 < x < 2018 for x in data.index.year]\n",
    "\n",
    "data = data.loc[subset_year, :]\n",
    "\n",
    "data = data.ffill()\n",
    "data = data.resample('H').mean().ffill()\n",
    "\n",
    "series = data['normalized_wp']\n",
    "\n",
    "thr = 0.1\n",
    "\n",
    "series.iloc[np.where(series > 1)] = np.nan\n",
    "series = series.ffill()\n",
    "\n",
    "series.head()"
   ]
  },
  {
   "cell_type": "code",
   "execution_count": null,
   "id": "82077a8b",
   "metadata": {},
   "outputs": [],
   "source": [
    "series.shape"
   ]
  },
  {
   "cell_type": "code",
   "execution_count": null,
   "id": "c623b9b2",
   "metadata": {},
   "outputs": [],
   "source": [
    "series.plot()"
   ]
  },
  {
   "cell_type": "code",
   "execution_count": null,
   "id": "cdc68bd2",
   "metadata": {},
   "outputs": [],
   "source": [
    "series.resample('D').mean().plot(figsize=(30, 12))"
   ]
  },
  {
   "cell_type": "code",
   "execution_count": null,
   "id": "8026b6f3",
   "metadata": {},
   "outputs": [],
   "source": [
    "thr = 0.15\n",
    "\n",
    "series.diff().plot(figsize=(30, 12))\n",
    "plt.axhline(y = thr, color = 'r')\n",
    "plt.axhline(y = -thr, color = 'r')"
   ]
  },
  {
   "cell_type": "markdown",
   "id": "9d02e8e8",
   "metadata": {},
   "source": [
    "### Construindo um modelo preditivo"
   ]
  },
  {
   "cell_type": "code",
   "execution_count": null,
   "id": "fc05c062",
   "metadata": {},
   "outputs": [],
   "source": [
    "from sklearn.model_selection import train_test_split\n",
    "from src.tde import time_delay_embedding\n",
    "\n",
    "series.head()"
   ]
  },
  {
   "cell_type": "code",
   "execution_count": null,
   "id": "d9375147",
   "metadata": {},
   "outputs": [],
   "source": [
    "train, test = train_test_split(series, test_size=0.3, shuffle=False)\n",
    "\n",
    "train_df = time_delay_embedding(train, n_lags=24, horizon=1).dropna()\n",
    "test_df = time_delay_embedding(test, n_lags=24, horizon=1).dropna()\n",
    "\n",
    "train_df.head()"
   ]
  },
  {
   "cell_type": "code",
   "execution_count": null,
   "id": "58bd184e",
   "metadata": {},
   "outputs": [],
   "source": [
    "X_train = train_df.drop('t+1', axis=1)\n",
    "X_test = test_df.drop('t+1', axis=1)\n",
    "\n",
    "print(X_train.head())\n",
    "\n",
    "train_exc = (train_df['t+1'] - train_df['t-0']).abs() > thr\n",
    "y_train_01 = train_exc.astype(int)\n",
    "\n",
    "test_exc = (test_df['t+1'] - test_df['t-0']).abs() > thr\n",
    "y_test_01 = test_exc.astype(int)\n",
    "\n",
    "y_train_01"
   ]
  },
  {
   "cell_type": "code",
   "execution_count": null,
   "id": "5e8cf786",
   "metadata": {},
   "outputs": [],
   "source": [
    "y_train_01.value_counts(normalize=True)"
   ]
  },
  {
   "cell_type": "code",
   "execution_count": null,
   "id": "bde5d0f7",
   "metadata": {},
   "outputs": [],
   "source": [
    "y_test_01.value_counts(normalize=True)"
   ]
  },
  {
   "cell_type": "code",
   "execution_count": null,
   "id": "40911817",
   "metadata": {},
   "outputs": [],
   "source": [
    "y_train_01.value_counts(normalize=True).plot.bar()"
   ]
  },
  {
   "cell_type": "code",
   "execution_count": null,
   "id": "45806dd1",
   "metadata": {},
   "outputs": [],
   "source": [
    "from sklearn.ensemble import RandomForestClassifier\n",
    "from sklearn.linear_model import LogisticRegression\n",
    "\n",
    "model = RandomForestClassifier()\n",
    "model.fit(X_train, y_train_01)"
   ]
  },
  {
   "cell_type": "code",
   "execution_count": null,
   "id": "3031f6c7",
   "metadata": {},
   "outputs": [],
   "source": [
    "anomaly_prob = model.predict_proba(X_test)[:, 1]\n",
    "anomaly_pred = model.predict(X_test)\n",
    "\n",
    "anomaly_prob = pd.Series(anomaly_prob, index=y_test_01.index).rename('Anomaly Probability')\n",
    "y_test_01 = y_test_01.rename('Anomaly')\n",
    "ax = y_test_01.plot(legend=True,color='red', figsize=(12,6), alpha=0.5)\n",
    "anomaly_prob.plot(legend=True, color='green', alpha=0.75)"
   ]
  },
  {
   "cell_type": "code",
   "execution_count": null,
   "id": "c7537df9",
   "metadata": {},
   "outputs": [],
   "source": [
    "from sklearn.metrics import roc_auc_score, brier_score_loss, f1_score, recall_score, precision_score, classification_report\n",
    "\n",
    "results_rf = classification_report(y_true=y_test_01, y_pred=anomaly_pred, output_dict=True)['macro avg']\n",
    "results_rf.pop('support')\n",
    "\n",
    "pd.Series(results_rf).plot.bar()"
   ]
  },
  {
   "cell_type": "code",
   "execution_count": null,
   "id": "4b85f7ef",
   "metadata": {},
   "outputs": [],
   "source": [
    "from imblearn.under_sampling import RandomUnderSampler\n",
    "from imblearn.ensemble import BalancedRandomForestClassifier\n",
    "\n",
    "X_tr_resampled, y_tr_resampled = RandomUnderSampler().fit_resample(X_train, y_train_01)\n",
    "\n",
    "model = RandomForestClassifier()\n",
    "model.fit(X_tr_resampled, y_tr_resampled)"
   ]
  },
  {
   "cell_type": "code",
   "execution_count": null,
   "id": "5b8d163c",
   "metadata": {},
   "outputs": [],
   "source": [
    "anomaly_prob = model.predict_proba(X_test)[:, 1]\n",
    "anomaly_pred = model.predict(X_test)\n",
    "\n",
    "anomaly_prob = pd.Series(anomaly_prob, index=y_test_01.index).rename('Anomaly Probability')\n",
    "ax = y_test_01.plot(legend=True,color='red', figsize=(12,6), alpha=0.5)\n",
    "anomaly_prob.plot(legend=True, color='green', alpha=0.5)"
   ]
  },
  {
   "cell_type": "code",
   "execution_count": null,
   "id": "356c6471",
   "metadata": {},
   "outputs": [],
   "source": [
    "results_rfr = classification_report(y_true=y_test_01, y_pred=anomaly_pred, output_dict=True)['macro avg']\n",
    "results_rfr.pop('support')\n",
    "\n",
    "pd.Series(results_rfr).plot.bar()"
   ]
  },
  {
   "cell_type": "code",
   "execution_count": null,
   "id": "0fa7a581",
   "metadata": {},
   "outputs": [],
   "source": [
    "model = BalancedRandomForestClassifier()\n",
    "\n",
    "model.fit(X_train, y_train_01)\n",
    "\n",
    "anomaly_prob = model.predict_proba(X_test)[:, 1]\n",
    "anomaly_pred = model.predict(X_test)\n",
    "\n",
    "anomaly_prob = pd.Series(anomaly_prob, index=y_test_01.index).rename('Anomaly Probability')\n",
    "ax = y_test_01.plot(legend=True,color='red', figsize=(12,6), alpha=0.5)\n",
    "anomaly_prob.plot(legend=True, color='green', alpha=0.5)"
   ]
  },
  {
   "cell_type": "code",
   "execution_count": null,
   "id": "799e1fbe",
   "metadata": {},
   "outputs": [],
   "source": [
    "results_brf = classification_report(y_true=y_test_01, y_pred=anomaly_pred, output_dict=True)['macro avg']\n",
    "results_brf.pop('support')\n",
    "\n",
    "pd.Series(results_brf).plot.bar()"
   ]
  },
  {
   "cell_type": "code",
   "execution_count": null,
   "id": "47b7b68c",
   "metadata": {},
   "outputs": [],
   "source": [
    "anomaly_pred_thr = (anomaly_prob > 0.2).astype(int)\n",
    "\n",
    "results_thr_eg = classification_report(y_true=y_test_01, y_pred=anomaly_pred_thr, output_dict=True)['macro avg']\n",
    "results_thr_eg.pop('support')\n",
    "\n",
    "pd.Series(results_thr_eg).plot.bar()"
   ]
  },
  {
   "cell_type": "code",
   "execution_count": null,
   "id": "90b0a114",
   "metadata": {},
   "outputs": [],
   "source": [
    "from sklearn.ensemble import IsolationForest\n",
    "?IsolationForest\n",
    "\n",
    "iforest = IsolationForest(n_estimators=100, max_samples='auto')\n",
    "iforest.fit(X_train)\n",
    "\n",
    "if_pred = iforest.predict(X_test)\n",
    "if_pred[if_pred == 1]=0\n",
    "if_pred[if_pred == -1]=1\n",
    "pd.Series(if_pred).value_counts()"
   ]
  },
  {
   "cell_type": "code",
   "execution_count": null,
   "id": "b716884d",
   "metadata": {},
   "outputs": [],
   "source": [
    "results_if = classification_report(y_true=y_test_01, y_pred=if_pred, output_dict=True)['macro avg']\n",
    "results_if.pop('support')\n",
    "\n",
    "pd.Series(results_if).plot.bar()"
   ]
  },
  {
   "cell_type": "code",
   "execution_count": null,
   "id": "0eee09f1",
   "metadata": {},
   "outputs": [],
   "source": [
    "from pyod.models.knn import KNN "
   ]
  },
  {
   "cell_type": "code",
   "execution_count": null,
   "id": "1642be05",
   "metadata": {},
   "outputs": [],
   "source": [
    "model = KNN()\n",
    "model.fit(X_train)"
   ]
  },
  {
   "cell_type": "code",
   "execution_count": null,
   "id": "fa48c313",
   "metadata": {},
   "outputs": [],
   "source": [
    "knn_pred = model.predict(X_test)\n",
    "knn_prob = model.decision_function(X_test)\n",
    "knn_prob"
   ]
  },
  {
   "cell_type": "code",
   "execution_count": null,
   "id": "31f01d15",
   "metadata": {},
   "outputs": [],
   "source": [
    "knn_prob = pd.Series(knn_prob, index=y_test_01.index).rename('Anomaly Probability')\n",
    "ax = y_test_01.plot(legend=True,color='red', figsize=(12,6), alpha=0.5)\n",
    "knn_prob.plot(legend=True, color='green', alpha=0.5)"
   ]
  },
  {
   "cell_type": "code",
   "execution_count": null,
   "id": "9481057f",
   "metadata": {},
   "outputs": [],
   "source": [
    "results_knn = classification_report(y_true=y_test_01, y_pred=knn_pred, output_dict=True)['macro avg']\n",
    "results_knn.pop('support')\n",
    "\n",
    "pd.Series(results_knn).plot.bar()"
   ]
  },
  {
   "cell_type": "code",
   "execution_count": null,
   "id": "8770ece4",
   "metadata": {},
   "outputs": [],
   "source": [
    "f1_scores = {'RF':results_rf['f1-score'],\n",
    "'RF+Resample': results_rfr['f1-score'],\n",
    "'BalancedRF': results_brf['f1-score'],\n",
    "'IsolationForest': results_if['f1-score'],\n",
    "'KNN': results_knn['f1-score']}\n",
    "\n",
    "pd.Series(f1_scores).plot.bar()"
   ]
  }
 ],
 "metadata": {
  "kernelspec": {
   "display_name": "Python 3 (ipykernel)",
   "language": "python",
   "name": "python3"
  },
  "language_info": {
   "codemirror_mode": {
    "name": "ipython",
    "version": 3
   },
   "file_extension": ".py",
   "mimetype": "text/x-python",
   "name": "python",
   "nbconvert_exporter": "python",
   "pygments_lexer": "ipython3",
   "version": "3.10.8"
  }
 },
 "nbformat": 4,
 "nbformat_minor": 5
}
