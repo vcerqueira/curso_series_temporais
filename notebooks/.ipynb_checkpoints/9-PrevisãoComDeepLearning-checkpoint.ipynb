{
 "cells": [
  {
   "cell_type": "markdown",
   "id": "34d8d0ce",
   "metadata": {},
   "source": [
    "## Exemplo Básico"
   ]
  },
  {
   "cell_type": "code",
   "execution_count": 1,
   "id": "a79a2387-4230-493c-8098-34563e1ec14e",
   "metadata": {},
   "outputs": [],
   "source": [
    "import os\n",
    "\n",
    "os.chdir('..')"
   ]
  },
  {
   "cell_type": "code",
   "execution_count": 2,
   "id": "a7f66410",
   "metadata": {},
   "outputs": [
    {
     "data": {
      "text/plain": [
       "0      0\n",
       "1      1\n",
       "2      2\n",
       "3      3\n",
       "4      4\n",
       "5      5\n",
       "6      6\n",
       "7      7\n",
       "8      8\n",
       "9      9\n",
       "10    10\n",
       "11    11\n",
       "12    12\n",
       "13    13\n",
       "14    14\n",
       "15    15\n",
       "16    16\n",
       "17    17\n",
       "18    18\n",
       "19    19\n",
       "20    20\n",
       "21    21\n",
       "22    22\n",
       "23    23\n",
       "24    24\n",
       "25    25\n",
       "26    26\n",
       "27    27\n",
       "28    28\n",
       "29    29\n",
       "30    30\n",
       "31    31\n",
       "32    32\n",
       "33    33\n",
       "34    34\n",
       "35    35\n",
       "36    36\n",
       "37    37\n",
       "38    38\n",
       "39    39\n",
       "40    40\n",
       "41    41\n",
       "42    42\n",
       "43    43\n",
       "44    44\n",
       "45    45\n",
       "46    46\n",
       "47    47\n",
       "48    48\n",
       "49    49\n",
       "dtype: int64"
      ]
     },
     "execution_count": 2,
     "metadata": {},
     "output_type": "execute_result"
    }
   ],
   "source": [
    "import numpy as np\n",
    "import pandas as pd\n",
    "series = pd.Series(np.arange(50))\n",
    "\n",
    "series"
   ]
  },
  {
   "cell_type": "code",
   "execution_count": 3,
   "id": "e46219e0",
   "metadata": {},
   "outputs": [
    {
     "data": {
      "text/html": [
       "<div>\n",
       "<style scoped>\n",
       "    .dataframe tbody tr th:only-of-type {\n",
       "        vertical-align: middle;\n",
       "    }\n",
       "\n",
       "    .dataframe tbody tr th {\n",
       "        vertical-align: top;\n",
       "    }\n",
       "\n",
       "    .dataframe thead th {\n",
       "        text-align: right;\n",
       "    }\n",
       "</style>\n",
       "<table border=\"1\" class=\"dataframe\">\n",
       "  <thead>\n",
       "    <tr style=\"text-align: right;\">\n",
       "      <th></th>\n",
       "      <th>t-4</th>\n",
       "      <th>t-3</th>\n",
       "      <th>t-2</th>\n",
       "      <th>t-1</th>\n",
       "      <th>t-0</th>\n",
       "      <th>t+1</th>\n",
       "      <th>t+2</th>\n",
       "      <th>t+3</th>\n",
       "    </tr>\n",
       "  </thead>\n",
       "  <tbody>\n",
       "    <tr>\n",
       "      <th>0</th>\n",
       "      <td>0.0</td>\n",
       "      <td>1.0</td>\n",
       "      <td>2.0</td>\n",
       "      <td>3.0</td>\n",
       "      <td>4.0</td>\n",
       "      <td>5</td>\n",
       "      <td>6.0</td>\n",
       "      <td>7.0</td>\n",
       "    </tr>\n",
       "    <tr>\n",
       "      <th>1</th>\n",
       "      <td>1.0</td>\n",
       "      <td>2.0</td>\n",
       "      <td>3.0</td>\n",
       "      <td>4.0</td>\n",
       "      <td>5.0</td>\n",
       "      <td>6</td>\n",
       "      <td>7.0</td>\n",
       "      <td>8.0</td>\n",
       "    </tr>\n",
       "    <tr>\n",
       "      <th>2</th>\n",
       "      <td>2.0</td>\n",
       "      <td>3.0</td>\n",
       "      <td>4.0</td>\n",
       "      <td>5.0</td>\n",
       "      <td>6.0</td>\n",
       "      <td>7</td>\n",
       "      <td>8.0</td>\n",
       "      <td>9.0</td>\n",
       "    </tr>\n",
       "    <tr>\n",
       "      <th>3</th>\n",
       "      <td>3.0</td>\n",
       "      <td>4.0</td>\n",
       "      <td>5.0</td>\n",
       "      <td>6.0</td>\n",
       "      <td>7.0</td>\n",
       "      <td>8</td>\n",
       "      <td>9.0</td>\n",
       "      <td>10.0</td>\n",
       "    </tr>\n",
       "    <tr>\n",
       "      <th>4</th>\n",
       "      <td>4.0</td>\n",
       "      <td>5.0</td>\n",
       "      <td>6.0</td>\n",
       "      <td>7.0</td>\n",
       "      <td>8.0</td>\n",
       "      <td>9</td>\n",
       "      <td>10.0</td>\n",
       "      <td>11.0</td>\n",
       "    </tr>\n",
       "  </tbody>\n",
       "</table>\n",
       "</div>"
      ],
      "text/plain": [
       "   t-4  t-3  t-2  t-1  t-0  t+1   t+2   t+3\n",
       "0  0.0  1.0  2.0  3.0  4.0    5   6.0   7.0\n",
       "1  1.0  2.0  3.0  4.0  5.0    6   7.0   8.0\n",
       "2  2.0  3.0  4.0  5.0  6.0    7   8.0   9.0\n",
       "3  3.0  4.0  5.0  6.0  7.0    8   9.0  10.0\n",
       "4  4.0  5.0  6.0  7.0  8.0    9  10.0  11.0"
      ]
     },
     "execution_count": 3,
     "metadata": {},
     "output_type": "execute_result"
    }
   ],
   "source": [
    "from src.tde import UnivariateTDE\n",
    "\n",
    "# numeros de lags\n",
    "n_steps = 5\n",
    "# horizonte\n",
    "n_output = 3\n",
    "# no de variables -- 1 porque a série é univariada\n",
    "n_features = 1\n",
    "\n",
    "data = UnivariateTDE(series, k=n_steps, horizon=n_output)\n",
    "\n",
    "data.head()"
   ]
  },
  {
   "cell_type": "code",
   "execution_count": 4,
   "id": "400e5269",
   "metadata": {},
   "outputs": [
    {
     "data": {
      "text/plain": [
       "array([[0., 1., 2., 3., 4.],\n",
       "       [1., 2., 3., 4., 5.],\n",
       "       [2., 3., 4., 5., 6.]])"
      ]
     },
     "execution_count": 4,
     "metadata": {},
     "output_type": "execute_result"
    }
   ],
   "source": [
    "is_future = data.columns.str.contains('\\+')\n",
    "X = data.iloc[:,~is_future].values\n",
    "Y = data.iloc[:,is_future].values\n",
    "\n",
    "X[:3]"
   ]
  },
  {
   "cell_type": "code",
   "execution_count": 5,
   "id": "701e373a",
   "metadata": {},
   "outputs": [
    {
     "name": "stderr",
     "output_type": "stream",
     "text": [
      "/Users/vcerq/miniconda/envs/NDS_TimeSeries/lib/python3.10/site-packages/keras/src/layers/rnn/rnn.py:204: UserWarning: Do not pass an `input_shape`/`input_dim` argument to a layer. When using Sequential models, prefer using an `Input(shape)` object as the first layer in the model instead.\n",
      "  super().__init__(**kwargs)\n"
     ]
    }
   ],
   "source": [
    "from keras.models import Sequential\n",
    "from keras.layers import Dense, LSTM\n",
    "\n",
    "# building a custom LSTM network\n",
    "model = Sequential()\n",
    "model.add(LSTM(50, activation='relu', input_shape=(n_steps, n_features)))\n",
    "# final layer is contains as many units as the size of the output\n",
    "model.add(Dense(n_output))\n",
    "# compiling with ADAM and optimizing to MSE\n",
    "model.compile(optimizer='adam', loss='mse')"
   ]
  },
  {
   "cell_type": "code",
   "execution_count": 6,
   "id": "2306ee2c",
   "metadata": {},
   "outputs": [
    {
     "data": {
      "text/plain": [
       "array([[[0.],\n",
       "        [1.],\n",
       "        [2.],\n",
       "        [3.],\n",
       "        [4.]],\n",
       "\n",
       "       [[1.],\n",
       "        [2.],\n",
       "        [3.],\n",
       "        [4.],\n",
       "        [5.]],\n",
       "\n",
       "       [[2.],\n",
       "        [3.],\n",
       "        [4.],\n",
       "        [5.],\n",
       "        [6.]]])"
      ]
     },
     "execution_count": 6,
     "metadata": {},
     "output_type": "execute_result"
    }
   ],
   "source": [
    "X = X.reshape((X.shape[0], X.shape[1], n_features))\n",
    "X[:3]"
   ]
  },
  {
   "cell_type": "code",
   "execution_count": 7,
   "id": "dda25c10",
   "metadata": {},
   "outputs": [
    {
     "data": {
      "text/plain": [
       "array([[5., 6., 7.],\n",
       "       [6., 7., 8.],\n",
       "       [7., 8., 9.]])"
      ]
     },
     "execution_count": 7,
     "metadata": {},
     "output_type": "execute_result"
    }
   ],
   "source": [
    "Y[:3]"
   ]
  },
  {
   "cell_type": "code",
   "execution_count": null,
   "id": "1ccf4614",
   "metadata": {},
   "outputs": [
    {
     "name": "stdout",
     "output_type": "stream",
     "text": [
      "Epoch 1/10\n"
     ]
    }
   ],
   "source": [
    "model.fit(X, Y, epochs=10, verbose=1)"
   ]
  },
  {
   "cell_type": "code",
   "execution_count": null,
   "id": "9c8ead2a",
   "metadata": {},
   "outputs": [],
   "source": [
    "# lstm but with 2 blocks\n",
    "\n",
    "model = Sequential()\n",
    "model.add(LSTM(50, activation='relu', return_sequences=True, input_shape=(n_steps, n_features)))\n",
    "model.add(LSTM(20, activation='relu'))\n",
    "model.add(Dense(n_output))\n",
    "model.compile(optimizer='adam', loss='mse')\n",
    "\n",
    "model.fit(X, Y, epochs=10, verbose=1)"
   ]
  },
  {
   "cell_type": "code",
   "execution_count": null,
   "id": "3ddbfdeb",
   "metadata": {},
   "outputs": [],
   "source": [
    "model.summary()"
   ]
  },
  {
   "cell_type": "markdown",
   "id": "fbeb8ae9",
   "metadata": {},
   "source": [
    "## Using State-of-the-art Methods"
   ]
  },
  {
   "cell_type": "code",
   "execution_count": null,
   "id": "8f5c5ab0",
   "metadata": {},
   "outputs": [],
   "source": [
    "# métodos avançados\n",
    "\n",
    "from gluonts.model.n_beats import NBEATSEnsembleEstimator\n",
    "from gluonts.mx.trainer import Trainer\n",
    "from gluonts.evaluation import make_evaluation_predictions\n",
    "from gluonts.evaluation import Evaluator\n",
    "from gluonts.dataset.repository.datasets import get_dataset, dataset_names"
   ]
  },
  {
   "cell_type": "code",
   "execution_count": null,
   "id": "b3f97046",
   "metadata": {},
   "outputs": [],
   "source": [
    "from pprint import pprint\n",
    "pprint(dataset_names)"
   ]
  },
  {
   "cell_type": "code",
   "execution_count": null,
   "id": "a8ffaa8e",
   "metadata": {},
   "outputs": [],
   "source": [
    "dataset = get_dataset(\"tourism_quarterly\", regenerate=True)\n",
    "horizon = 4"
   ]
  },
  {
   "cell_type": "raw",
   "id": "062091cd",
   "metadata": {},
   "source": [
    "estimator = NBEATSEnsembleEstimator(freq='Q',\n",
    "                                    prediction_length=horizon,\n",
    "                                    meta_context_length=[multiplier * horizon for multiplier in range(2, 7)],\n",
    "                                    meta_loss_function=['MAPE', 'sMAPE', 'MASE'],\n",
    "                                    meta_bagging_size=10,\n",
    "                                    num_stacks=30,\n",
    "                                    num_blocks=[1],\n",
    "                                    trainer=Trainer(\n",
    "                                        learning_rate=0.001,\n",
    "                                        epochs=30,\n",
    "                                        batch_size=1024\n",
    "                                    ),\n",
    "                                    widths=[512],\n",
    "                                    sharing=[False],\n",
    "                                    expansion_coefficient_lengths=[32],\n",
    "                                    stack_types=['G'])"
   ]
  },
  {
   "cell_type": "code",
   "execution_count": null,
   "id": "f302989e",
   "metadata": {},
   "outputs": [],
   "source": [
    "# versão MUITO simplificada\n",
    "estimator = NBEATSEnsembleEstimator(freq='Q',\n",
    "                                    prediction_length=horizon,\n",
    "                                    meta_context_length=[2 * horizon],\n",
    "                                    meta_loss_function=['MASE'],\n",
    "                                    meta_bagging_size=2,\n",
    "                                    num_stacks=30,\n",
    "                                    num_blocks=[1],\n",
    "                                    trainer=Trainer(\n",
    "                                        learning_rate=0.001,\n",
    "                                        # epochs=30,\n",
    "                                        epochs=2, # to get some quick output\n",
    "                                        batch_size=1024\n",
    "                                    ),\n",
    "                                    widths=[64],\n",
    "                                    sharing=[False],\n",
    "                                    expansion_coefficient_lengths=[32],\n",
    "                                    stack_types=['G'])"
   ]
  },
  {
   "cell_type": "code",
   "execution_count": null,
   "id": "3386caee",
   "metadata": {},
   "outputs": [],
   "source": [
    "model = estimator.train(dataset.train)"
   ]
  },
  {
   "cell_type": "code",
   "execution_count": null,
   "id": "dfa8ac4b",
   "metadata": {},
   "outputs": [],
   "source": [
    "forecast_it, ts_it = make_evaluation_predictions(\n",
    "    dataset=dataset.test,  \n",
    "    predictor=model,  # modelo\n",
    "    num_samples=1,  # number of sample paths we want for evaluation\n",
    ")\n",
    "\n",
    "forecasts = list(forecast_it)\n",
    "tss = list(ts_it)\n",
    "\n",
    "evaluator = Evaluator(quantiles=[0.1, 0.5, 0.9])\n",
    "agg_metrics, item_metrics = evaluator(iter(tss), iter(forecasts), num_series=len(dataset.test))"
   ]
  },
  {
   "cell_type": "code",
   "execution_count": null,
   "id": "782d559d",
   "metadata": {
    "scrolled": true
   },
   "outputs": [],
   "source": [
    "agg_metrics"
   ]
  }
 ],
 "metadata": {
  "kernelspec": {
   "display_name": "Python 3 (ipykernel)",
   "language": "python",
   "name": "python3"
  },
  "language_info": {
   "codemirror_mode": {
    "name": "ipython",
    "version": 3
   },
   "file_extension": ".py",
   "mimetype": "text/x-python",
   "name": "python",
   "nbconvert_exporter": "python",
   "pygments_lexer": "ipython3",
   "version": "3.10.14"
  }
 },
 "nbformat": 4,
 "nbformat_minor": 5
}
