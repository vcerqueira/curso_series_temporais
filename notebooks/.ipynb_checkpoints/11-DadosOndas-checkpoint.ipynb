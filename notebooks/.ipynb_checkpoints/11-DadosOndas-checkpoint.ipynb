{
 "cells": [
  {
   "cell_type": "code",
   "execution_count": 1,
   "id": "c82ac8fb",
   "metadata": {},
   "outputs": [],
   "source": [
    "import pandas as pd\n",
    "%matplotlib inline"
   ]
  },
  {
   "cell_type": "code",
   "execution_count": 2,
   "id": "a1be9af4",
   "metadata": {},
   "outputs": [
    {
     "data": {
      "text/plain": [
       "(469619, 2)"
      ]
     },
     "execution_count": 2,
     "metadata": {},
     "output_type": "execute_result"
    }
   ],
   "source": [
    "data = pd.read_csv('wave_height.csv')\n",
    "# dimensão dos dados\n",
    "data.shape"
   ]
  },
  {
   "cell_type": "code",
   "execution_count": 3,
   "id": "6f41a87e",
   "metadata": {},
   "outputs": [
    {
     "data": {
      "text/html": [
       "<div>\n",
       "<style scoped>\n",
       "    .dataframe tbody tr th:only-of-type {\n",
       "        vertical-align: middle;\n",
       "    }\n",
       "\n",
       "    .dataframe tbody tr th {\n",
       "        vertical-align: top;\n",
       "    }\n",
       "\n",
       "    .dataframe thead th {\n",
       "        text-align: right;\n",
       "    }\n",
       "</style>\n",
       "<table border=\"1\" class=\"dataframe\">\n",
       "  <thead>\n",
       "    <tr style=\"text-align: right;\">\n",
       "      <th></th>\n",
       "      <th>time</th>\n",
       "      <th>SignificantWaveHeight</th>\n",
       "    </tr>\n",
       "  </thead>\n",
       "  <tbody>\n",
       "    <tr>\n",
       "      <th>0</th>\n",
       "      <td>2016-01-01 00:00:00</td>\n",
       "      <td>5.877</td>\n",
       "    </tr>\n",
       "    <tr>\n",
       "      <th>1</th>\n",
       "      <td>2016-01-01 00:03:00</td>\n",
       "      <td>5.930</td>\n",
       "    </tr>\n",
       "    <tr>\n",
       "      <th>2</th>\n",
       "      <td>2016-01-01 00:07:00</td>\n",
       "      <td>6.036</td>\n",
       "    </tr>\n",
       "    <tr>\n",
       "      <th>3</th>\n",
       "      <td>2016-01-01 00:10:00</td>\n",
       "      <td>6.120</td>\n",
       "    </tr>\n",
       "    <tr>\n",
       "      <th>4</th>\n",
       "      <td>2016-01-01 00:13:00</td>\n",
       "      <td>6.519</td>\n",
       "    </tr>\n",
       "    <tr>\n",
       "      <th>5</th>\n",
       "      <td>2016-01-01 00:17:00</td>\n",
       "      <td>6.515</td>\n",
       "    </tr>\n",
       "    <tr>\n",
       "      <th>6</th>\n",
       "      <td>2016-01-01 00:20:00</td>\n",
       "      <td>6.394</td>\n",
       "    </tr>\n",
       "    <tr>\n",
       "      <th>7</th>\n",
       "      <td>2016-01-01 00:23:00</td>\n",
       "      <td>6.372</td>\n",
       "    </tr>\n",
       "    <tr>\n",
       "      <th>8</th>\n",
       "      <td>2016-01-01 00:27:00</td>\n",
       "      <td>6.382</td>\n",
       "    </tr>\n",
       "    <tr>\n",
       "      <th>9</th>\n",
       "      <td>2016-01-01 00:30:00</td>\n",
       "      <td>6.249</td>\n",
       "    </tr>\n",
       "  </tbody>\n",
       "</table>\n",
       "</div>"
      ],
      "text/plain": [
       "                  time  SignificantWaveHeight\n",
       "0  2016-01-01 00:00:00                  5.877\n",
       "1  2016-01-01 00:03:00                  5.930\n",
       "2  2016-01-01 00:07:00                  6.036\n",
       "3  2016-01-01 00:10:00                  6.120\n",
       "4  2016-01-01 00:13:00                  6.519\n",
       "5  2016-01-01 00:17:00                  6.515\n",
       "6  2016-01-01 00:20:00                  6.394\n",
       "7  2016-01-01 00:23:00                  6.372\n",
       "8  2016-01-01 00:27:00                  6.382\n",
       "9  2016-01-01 00:30:00                  6.249"
      ]
     },
     "execution_count": 3,
     "metadata": {},
     "output_type": "execute_result"
    }
   ],
   "source": [
    "# frequencia alta e irregular\n",
    "data.head(10)"
   ]
  },
  {
   "cell_type": "code",
   "execution_count": 4,
   "id": "2fd72940",
   "metadata": {},
   "outputs": [],
   "source": [
    "wave = pd.Series(data['SignificantWaveHeight'])"
   ]
  },
  {
   "cell_type": "code",
   "execution_count": 5,
   "id": "a7d7a8b0",
   "metadata": {},
   "outputs": [],
   "source": [
    "# transformando os dados para pd.Series com indice no tempo\n",
    "wave.index = pd.to_datetime(data['time'])"
   ]
  },
  {
   "cell_type": "code",
   "execution_count": 6,
   "id": "765a8838",
   "metadata": {},
   "outputs": [
    {
     "data": {
      "text/plain": [
       "time\n",
       "2016-01-01 00:00:00    5.877\n",
       "2016-01-01 00:03:00    5.930\n",
       "2016-01-01 00:07:00    6.036\n",
       "2016-01-01 00:10:00    6.120\n",
       "2016-01-01 00:13:00    6.519\n",
       "2016-01-01 00:17:00    6.515\n",
       "2016-01-01 00:20:00    6.394\n",
       "2016-01-01 00:23:00    6.372\n",
       "2016-01-01 00:27:00    6.382\n",
       "2016-01-01 00:30:00    6.249\n",
       "Name: SignificantWaveHeight, dtype: float64"
      ]
     },
     "execution_count": 6,
     "metadata": {},
     "output_type": "execute_result"
    }
   ],
   "source": [
    "wave.head(10)"
   ]
  },
  {
   "cell_type": "code",
   "execution_count": 7,
   "id": "8fb8af67",
   "metadata": {},
   "outputs": [
    {
     "data": {
      "text/plain": [
       "array([0.00389678])"
      ]
     },
     "execution_count": 7,
     "metadata": {},
     "output_type": "execute_result"
    }
   ],
   "source": [
    "# existem valores omissos\n",
    "wave.isna().sum() / wave.shape"
   ]
  },
  {
   "cell_type": "code",
   "execution_count": 8,
   "id": "f019110a",
   "metadata": {},
   "outputs": [],
   "source": [
    "# propagando o último valor conhecido para a frente\n",
    "wave = wave.ffill()"
   ]
  },
  {
   "cell_type": "code",
   "execution_count": 9,
   "id": "36889e80",
   "metadata": {},
   "outputs": [],
   "source": [
    "# re-amostrar para dados horários\n",
    "wave = wave.resample('H').mean()"
   ]
  },
  {
   "cell_type": "code",
   "execution_count": 10,
   "id": "cc3c97d4",
   "metadata": {},
   "outputs": [
    {
     "data": {
      "text/plain": [
       "time\n",
       "2016-01-01 00:00:00    6.085000\n",
       "2016-01-01 01:00:00    5.989611\n",
       "2016-01-01 02:00:00    5.494222\n",
       "2016-01-01 03:00:00    5.170778\n",
       "2016-01-01 04:00:00    5.362333\n",
       "2016-01-01 05:00:00    4.876556\n",
       "2016-01-01 06:00:00    5.110222\n",
       "2016-01-01 07:00:00    4.856111\n",
       "2016-01-01 08:00:00    5.071167\n",
       "2016-01-01 09:00:00    4.984167\n",
       "Freq: H, Name: SignificantWaveHeight, dtype: float64"
      ]
     },
     "execution_count": 10,
     "metadata": {},
     "output_type": "execute_result"
    }
   ],
   "source": [
    "wave.head(10)"
   ]
  },
  {
   "cell_type": "code",
   "execution_count": 11,
   "id": "d17021a3",
   "metadata": {},
   "outputs": [
    {
     "data": {
      "text/plain": [
       "count    26137.000000\n",
       "mean         2.798685\n",
       "std          1.535360\n",
       "min          0.002000\n",
       "25%          1.705778\n",
       "50%          2.495333\n",
       "75%          3.487889\n",
       "max         14.044647\n",
       "Name: SignificantWaveHeight, dtype: float64"
      ]
     },
     "execution_count": 11,
     "metadata": {},
     "output_type": "execute_result"
    }
   ],
   "source": [
    "wave.describe()"
   ]
  },
  {
   "cell_type": "code",
   "execution_count": 12,
   "id": "26aaa733",
   "metadata": {},
   "outputs": [
    {
     "data": {
      "text/plain": [
       "<AxesSubplot:xlabel='time'>"
      ]
     },
     "execution_count": 12,
     "metadata": {},
     "output_type": "execute_result"
    },
    {
     "data": {
      "image/png": "[encoded data removed]",
      "text/plain": [
       "<Figure size 432x288 with 1 Axes>"
      ]
     },
     "metadata": {
      "needs_background": "light"
     },
     "output_type": "display_data"
    }
   ],
   "source": [
    "wave.plot(x='time', y='SignificantWaveHeight')"
   ]
  },
  {
   "cell_type": "code",
   "execution_count": 13,
   "id": "7552280c",
   "metadata": {},
   "outputs": [
    {
     "data": {
      "text/plain": [
       "<AxesSubplot:ylabel='Frequency'>"
      ]
     },
     "execution_count": 13,
     "metadata": {},
     "output_type": "execute_result"
    },
    {
     "data": {
      "image/png": "[encoded data removed]",
      "text/plain": [
       "<Figure size 432x288 with 1 Axes>"
      ]
     },
     "metadata": {
      "needs_background": "light"
     },
     "output_type": "display_data"
    }
   ],
   "source": [
    "# tem valores extremos\n",
    "wave.plot.hist()"
   ]
  },
  {
   "cell_type": "code",
   "execution_count": 14,
   "id": "d9853c39",
   "metadata": {},
   "outputs": [
    {
     "data": {
      "text/plain": [
       "array([0.0031275])"
      ]
     },
     "execution_count": 14,
     "metadata": {},
     "output_type": "execute_result"
    }
   ],
   "source": [
    "# algumas horas não tem qualquer observação\n",
    "wave.isna().sum() / wave.shape"
   ]
  },
  {
   "cell_type": "code",
   "execution_count": 15,
   "id": "8cdc9588",
   "metadata": {},
   "outputs": [],
   "source": [
    "wave = wave.ffill()"
   ]
  },
  {
   "cell_type": "code",
   "execution_count": 17,
   "id": "3fe2ea9e",
   "metadata": {},
   "outputs": [
    {
     "name": "stdout",
     "output_type": "stream",
     "text": [
      "1\n",
      "0\n",
      "0\n"
     ]
    }
   ],
   "source": [
    "from pmdarima.arima import ndiffs, nsdiffs\n",
    "\n",
    "print(ndiffs(wave, test='kpss'))\n",
    "print(ndiffs(wave, test='adf'))\n",
    "print(ndiffs(wave, test='pp'))"
   ]
  },
  {
   "cell_type": "code",
   "execution_count": 20,
   "id": "fd1f9749",
   "metadata": {},
   "outputs": [
    {
     "data": {
      "text/plain": [
       "0"
      ]
     },
     "execution_count": 20,
     "metadata": {},
     "output_type": "execute_result"
    }
   ],
   "source": [
    "nsdiffs(wave,m=24*365)"
   ]
  },
  {
   "cell_type": "code",
   "execution_count": null,
   "id": "c3961df1",
   "metadata": {},
   "outputs": [],
   "source": []
  },
  {
   "cell_type": "code",
   "execution_count": 21,
   "id": "bd95776f",
   "metadata": {},
   "outputs": [
    {
     "data": {
      "text/plain": [
       "0.2574611230176863"
      ]
     },
     "execution_count": 21,
     "metadata": {},
     "output_type": "execute_result"
    },
    {
     "data": {
      "image/png": "[encoded data removed]",
      "text/plain": [
       "<Figure size 432x288 with 1 Axes>"
      ]
     },
     "metadata": {
      "needs_background": "light"
     },
     "output_type": "display_data"
    }
   ],
   "source": [
    "wave_d = wave.resample('W').mean()\n",
    "wave_d.plot()\n",
    "\n",
    "# heterocedastidade\n",
    "from heteroskedasticity import het_tests\n",
    "\n",
    "p_value = het_tests(wave_d, test='white')\n",
    "# p_value = het_tests(series, test='breuschpagan')\n",
    "\n",
    "p_value"
   ]
  }
 ],
 "metadata": {
  "kernelspec": {
   "display_name": "Python 3 (ipykernel)",
   "language": "python",
   "name": "python3"
  },
  "language_info": {
   "codemirror_mode": {
    "name": "ipython",
    "version": 3
   },
   "file_extension": ".py",
   "mimetype": "text/x-python",
   "name": "python",
   "nbconvert_exporter": "python",
   "pygments_lexer": "ipython3",
   "version": "3.10.14"
  }
 },
 "nbformat": 4,
 "nbformat_minor": 5
}
